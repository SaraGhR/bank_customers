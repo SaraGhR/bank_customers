{
  "cells": [
    {
      "cell_type": "markdown",
      "id": "d333515a",
      "metadata": {
        "id": "d333515a"
      },
      "source": [
        "<h1 align=center style=\"line-height:200%;font-family:vazir;color:#0099cc\">\n",
        "<font face=\"vazir\" color=\"#0099cc\">\n",
        "bank_customers\n",
        "</font>\n",
        "</h1>"
      ]
    },
    {
      "cell_type": "markdown",
      "id": "6ed20bff",
      "metadata": {
        "id": "6ed20bff"
      },
      "source": [
        "<h2 align=LEFT style=\"line-height:200%;font-family:vazir;color:#0099cc\">\n",
        "<font face=\"vazir\" color=\"#0099cc\">\n",
        "Intro\n",
        "</font>\n",
        "</h2>\n",
        "\n",
        "<p dir=rtl align=LEFT style=\"direction: rtl; text-align: justify; line-height:200%; font-family:vazir; font-size:medium\">\n",
        "<font face=\"vazir\" size=3>\n",
        "   \n",
        " the bank can store more money in its safes and thereby increase its rating and can provide more services to its customers.\n",
        "\n",
        "  In this exercise, we have the information of the previous campaign (sweeps) of a Portuguese bank and we intend to identify people who respond positively to the current survey. The purpose of this campaign is to create \"term bank deposits\".\n",
        "</font>\n",
        "</p>"
      ]
    },
    {
      "cell_type": "code",
      "execution_count": 1,
      "id": "99450f9e",
      "metadata": {
        "id": "99450f9e"
      },
      "outputs": [],
      "source": [
        "import numpy as np\n",
        "import pandas as pd "
      ]
    },
    {
      "cell_type": "markdown",
      "id": "72faaed8",
      "metadata": {
        "id": "72faaed8"
      },
      "source": [
        "<h2 align=LEFT style=\"line-height:200%;font-family:vazir;color:#0099cc\">\n",
        "<font face=\"vazir\" color=\"#0099cc\">\n",
        " Introduce data\n",
        "</font>\n",
        "\n",
        "<br>\n",
        "\n",
        "\n",
        "<center>\n",
        "<div dir=rtl style=\"direction: rtl;line-height:200%;font-family:vazir;font-size:medium\">\n",
        "<font face=\"vazir\" size=3>\n",
        "    \n",
        "|ستون|توضیحات|\n",
        "|:------:|:---:|\n",
        "|age|ستونی دارای مقادیر عددی که سن مشتری را نشان می‌دهد|\n",
        "|job|ستونی با مقادیر دسته‌ای که وضعیت شغلی مشتری را نشان می‌دهد|\n",
        "|marital|این ستون که مقادیر دسته‌ای را می‌پذیرد، وضعیت تاهل مشتری را مدل کرده است|\n",
        "|education|وضعیت تحصیلی مشتری را به شکل دسته‌ای، نشان می‌دهد|\n",
        "|default|نشان می‌دهد که آیا به صورت پیشفرض، مشتری اعتبار بانکی دارد یا خیر|\n",
        "|housing|آیا مشتری برای مسکن، وتم گرفته است یا خیر|\n",
        "|loan|آیا مشتری وام شخصی دریافت کرده است یا خیر؟|\n",
        "|contact|نحوه ارتباط با مشتری را نشان می‌دهد. این ستون یکی از دو مقدار *cellular* و *telephone* را می‌تواند اختیار کند. به این معنی که بانک با تلفن همراه مشتری تماس گرفته است یا تلفن ثابت|\n",
        "|month|این ستون دسته‌ای، نشان می‌دهد آخرین باری که با مشتری تماس گرفته شده است، در چه ماهی بوده است|\n",
        "|day_of_week|روزی که آخرین تماس با مشتری گرفته شده است، چه روزی بوده است؟ (شنبه، یکشنبه، ...، جمعه)|\n",
        "|campaign|تعداد تماس‌هایی که تا به حال با مشتری برای کمپین جاری گرفته شده است|\n",
        "|pdays|تعداد روزی که از آخرین تماس با مشتری برای کمپین قبلی می‌گذرد. عدد ۹۹۹ به این معنی است که قبلا با مشتری تماس گرفته نشده است|\n",
        "|previous|تعداد تماس‌هایی که با مشتری برای کمپین‌های قبلی گرفته شده است|\n",
        "|poutcome|نتیجه کمپین‌های قبلی برای مشتری|\n",
        "|emp.var.rate|نرخ تغییرات اشتغال در بازه سه ماهه|\n",
        "|cons.price.idx|شاخص قیمت مصرف‌کننده در بازه یک ماهه|\n",
        "|cons.conf.idx|شاخص اعتماد مصرف‌کننده در بازه یک ماهه|\n",
        "|euribor3m|نرخ بهره بانکی برای وام‌های بین بانکی اروپایی|\n",
        "|nr.employed|تعداد کارمندان در بازه سه ماهه|\n",
        "|y|آیا فرد به پویش سرمایه‌گذاری بانک پاسخ مثبت داده یا خیر|\n",
        "    \n",
        "</font>\n",
        "</div>\n",
        "</center>\n",
        "\n",
        "\n"
      ]
    },
    {
      "cell_type": "code",
      "execution_count": 2,
      "id": "15175ae4",
      "metadata": {
        "id": "15175ae4"
      },
      "outputs": [],
      "source": [
        "train_data = pd.read_csv('bank_customers_train.csv')\n",
        "test_data = pd.read_csv('bank_customers_test.csv')"
      ]
    },
    {
      "cell_type": "code",
      "source": [
        "train_data"
      ],
      "metadata": {
        "colab": {
          "base_uri": "https://localhost:8080/",
          "height": 557
        },
        "id": "R7pKdqs3dM21",
        "outputId": "dd3e813e-b09b-4415-cebf-4da958d92faf"
      },
      "id": "R7pKdqs3dM21",
      "execution_count": 3,
      "outputs": [
        {
          "output_type": "execute_result",
          "data": {
            "text/plain": [
              "       age          job   marital          education default housing loan  \\\n",
              "0       35  blue-collar    single        high.school     NaN      no   no   \n",
              "1       52  blue-collar   married                NaN     NaN     yes   no   \n",
              "2       38     services   married        high.school     NaN      no   no   \n",
              "3       44       admin.   married  university.degree      no     yes   no   \n",
              "4       25     services  divorced           basic.4y      no     yes   no   \n",
              "...    ...          ...       ...                ...     ...     ...  ...   \n",
              "39183   43       admin.    single  university.degree      no      no   no   \n",
              "39184   31       admin.   married        high.school      no      no   no   \n",
              "39185   49  blue-collar   married           basic.4y     NaN      no   no   \n",
              "39186   31       admin.    single  university.degree      no     yes   no   \n",
              "39187   43  blue-collar   married           basic.9y      no     yes   no   \n",
              "\n",
              "         contact month day_of_week  ...  campaign  pdays  previous  \\\n",
              "0       cellular   jul         thu  ...         3    999         0   \n",
              "1      telephone   jun         thu  ...         4    999         0   \n",
              "2      telephone   jun         tue  ...         2    999         0   \n",
              "3      telephone   oct         wed  ...         1    999         0   \n",
              "4      telephone   may         fri  ...         1    999         0   \n",
              "...          ...   ...         ...  ...       ...    ...       ...   \n",
              "39183   cellular   may         tue  ...         1    999         0   \n",
              "39184   cellular   apr         fri  ...         2    999         0   \n",
              "39185  telephone   jun         fri  ...         1    999         0   \n",
              "39186  telephone   jun         wed  ...         1    999         0   \n",
              "39187  telephone   jun         tue  ...         1    999         0   \n",
              "\n",
              "          poutcome emp.var.rate  cons.price.idx  cons.conf.idx  euribor3m  \\\n",
              "0      nonexistent          1.4          93.918          -42.7      4.958   \n",
              "1      nonexistent          1.4          94.465          -41.8      4.961   \n",
              "2      nonexistent          1.4          94.465          -41.8      4.864   \n",
              "3      nonexistent         -3.4          92.431          -26.9      0.735   \n",
              "4      nonexistent          1.1          93.994          -36.4      4.859   \n",
              "...            ...          ...             ...            ...        ...   \n",
              "39183  nonexistent         -1.8          92.893          -46.2      1.291   \n",
              "39184  nonexistent         -1.8          93.075          -47.1      1.405   \n",
              "39185  nonexistent          1.4          94.465          -41.8      4.959   \n",
              "39186  nonexistent          1.4          94.465          -41.8      4.959   \n",
              "39187  nonexistent          1.4          94.465          -41.8      4.961   \n",
              "\n",
              "       nr.employed    y  \n",
              "0           5228.1   no  \n",
              "1           5228.1   no  \n",
              "2           5228.1   no  \n",
              "3           5017.5  yes  \n",
              "4           5191.0   no  \n",
              "...            ...  ...  \n",
              "39183       5099.1   no  \n",
              "39184       5099.1   no  \n",
              "39185       5228.1  yes  \n",
              "39186       5228.1   no  \n",
              "39187       5228.1   no  \n",
              "\n",
              "[39188 rows x 21 columns]"
            ],
            "text/html": [
              "\n",
              "  <div id=\"df-a818d447-58ef-4035-88d2-1b0a9d4d2990\">\n",
              "    <div class=\"colab-df-container\">\n",
              "      <div>\n",
              "<style scoped>\n",
              "    .dataframe tbody tr th:only-of-type {\n",
              "        vertical-align: middle;\n",
              "    }\n",
              "\n",
              "    .dataframe tbody tr th {\n",
              "        vertical-align: top;\n",
              "    }\n",
              "\n",
              "    .dataframe thead th {\n",
              "        text-align: right;\n",
              "    }\n",
              "</style>\n",
              "<table border=\"1\" class=\"dataframe\">\n",
              "  <thead>\n",
              "    <tr style=\"text-align: right;\">\n",
              "      <th></th>\n",
              "      <th>age</th>\n",
              "      <th>job</th>\n",
              "      <th>marital</th>\n",
              "      <th>education</th>\n",
              "      <th>default</th>\n",
              "      <th>housing</th>\n",
              "      <th>loan</th>\n",
              "      <th>contact</th>\n",
              "      <th>month</th>\n",
              "      <th>day_of_week</th>\n",
              "      <th>...</th>\n",
              "      <th>campaign</th>\n",
              "      <th>pdays</th>\n",
              "      <th>previous</th>\n",
              "      <th>poutcome</th>\n",
              "      <th>emp.var.rate</th>\n",
              "      <th>cons.price.idx</th>\n",
              "      <th>cons.conf.idx</th>\n",
              "      <th>euribor3m</th>\n",
              "      <th>nr.employed</th>\n",
              "      <th>y</th>\n",
              "    </tr>\n",
              "  </thead>\n",
              "  <tbody>\n",
              "    <tr>\n",
              "      <th>0</th>\n",
              "      <td>35</td>\n",
              "      <td>blue-collar</td>\n",
              "      <td>single</td>\n",
              "      <td>high.school</td>\n",
              "      <td>NaN</td>\n",
              "      <td>no</td>\n",
              "      <td>no</td>\n",
              "      <td>cellular</td>\n",
              "      <td>jul</td>\n",
              "      <td>thu</td>\n",
              "      <td>...</td>\n",
              "      <td>3</td>\n",
              "      <td>999</td>\n",
              "      <td>0</td>\n",
              "      <td>nonexistent</td>\n",
              "      <td>1.4</td>\n",
              "      <td>93.918</td>\n",
              "      <td>-42.7</td>\n",
              "      <td>4.958</td>\n",
              "      <td>5228.1</td>\n",
              "      <td>no</td>\n",
              "    </tr>\n",
              "    <tr>\n",
              "      <th>1</th>\n",
              "      <td>52</td>\n",
              "      <td>blue-collar</td>\n",
              "      <td>married</td>\n",
              "      <td>NaN</td>\n",
              "      <td>NaN</td>\n",
              "      <td>yes</td>\n",
              "      <td>no</td>\n",
              "      <td>telephone</td>\n",
              "      <td>jun</td>\n",
              "      <td>thu</td>\n",
              "      <td>...</td>\n",
              "      <td>4</td>\n",
              "      <td>999</td>\n",
              "      <td>0</td>\n",
              "      <td>nonexistent</td>\n",
              "      <td>1.4</td>\n",
              "      <td>94.465</td>\n",
              "      <td>-41.8</td>\n",
              "      <td>4.961</td>\n",
              "      <td>5228.1</td>\n",
              "      <td>no</td>\n",
              "    </tr>\n",
              "    <tr>\n",
              "      <th>2</th>\n",
              "      <td>38</td>\n",
              "      <td>services</td>\n",
              "      <td>married</td>\n",
              "      <td>high.school</td>\n",
              "      <td>NaN</td>\n",
              "      <td>no</td>\n",
              "      <td>no</td>\n",
              "      <td>telephone</td>\n",
              "      <td>jun</td>\n",
              "      <td>tue</td>\n",
              "      <td>...</td>\n",
              "      <td>2</td>\n",
              "      <td>999</td>\n",
              "      <td>0</td>\n",
              "      <td>nonexistent</td>\n",
              "      <td>1.4</td>\n",
              "      <td>94.465</td>\n",
              "      <td>-41.8</td>\n",
              "      <td>4.864</td>\n",
              "      <td>5228.1</td>\n",
              "      <td>no</td>\n",
              "    </tr>\n",
              "    <tr>\n",
              "      <th>3</th>\n",
              "      <td>44</td>\n",
              "      <td>admin.</td>\n",
              "      <td>married</td>\n",
              "      <td>university.degree</td>\n",
              "      <td>no</td>\n",
              "      <td>yes</td>\n",
              "      <td>no</td>\n",
              "      <td>telephone</td>\n",
              "      <td>oct</td>\n",
              "      <td>wed</td>\n",
              "      <td>...</td>\n",
              "      <td>1</td>\n",
              "      <td>999</td>\n",
              "      <td>0</td>\n",
              "      <td>nonexistent</td>\n",
              "      <td>-3.4</td>\n",
              "      <td>92.431</td>\n",
              "      <td>-26.9</td>\n",
              "      <td>0.735</td>\n",
              "      <td>5017.5</td>\n",
              "      <td>yes</td>\n",
              "    </tr>\n",
              "    <tr>\n",
              "      <th>4</th>\n",
              "      <td>25</td>\n",
              "      <td>services</td>\n",
              "      <td>divorced</td>\n",
              "      <td>basic.4y</td>\n",
              "      <td>no</td>\n",
              "      <td>yes</td>\n",
              "      <td>no</td>\n",
              "      <td>telephone</td>\n",
              "      <td>may</td>\n",
              "      <td>fri</td>\n",
              "      <td>...</td>\n",
              "      <td>1</td>\n",
              "      <td>999</td>\n",
              "      <td>0</td>\n",
              "      <td>nonexistent</td>\n",
              "      <td>1.1</td>\n",
              "      <td>93.994</td>\n",
              "      <td>-36.4</td>\n",
              "      <td>4.859</td>\n",
              "      <td>5191.0</td>\n",
              "      <td>no</td>\n",
              "    </tr>\n",
              "    <tr>\n",
              "      <th>...</th>\n",
              "      <td>...</td>\n",
              "      <td>...</td>\n",
              "      <td>...</td>\n",
              "      <td>...</td>\n",
              "      <td>...</td>\n",
              "      <td>...</td>\n",
              "      <td>...</td>\n",
              "      <td>...</td>\n",
              "      <td>...</td>\n",
              "      <td>...</td>\n",
              "      <td>...</td>\n",
              "      <td>...</td>\n",
              "      <td>...</td>\n",
              "      <td>...</td>\n",
              "      <td>...</td>\n",
              "      <td>...</td>\n",
              "      <td>...</td>\n",
              "      <td>...</td>\n",
              "      <td>...</td>\n",
              "      <td>...</td>\n",
              "      <td>...</td>\n",
              "    </tr>\n",
              "    <tr>\n",
              "      <th>39183</th>\n",
              "      <td>43</td>\n",
              "      <td>admin.</td>\n",
              "      <td>single</td>\n",
              "      <td>university.degree</td>\n",
              "      <td>no</td>\n",
              "      <td>no</td>\n",
              "      <td>no</td>\n",
              "      <td>cellular</td>\n",
              "      <td>may</td>\n",
              "      <td>tue</td>\n",
              "      <td>...</td>\n",
              "      <td>1</td>\n",
              "      <td>999</td>\n",
              "      <td>0</td>\n",
              "      <td>nonexistent</td>\n",
              "      <td>-1.8</td>\n",
              "      <td>92.893</td>\n",
              "      <td>-46.2</td>\n",
              "      <td>1.291</td>\n",
              "      <td>5099.1</td>\n",
              "      <td>no</td>\n",
              "    </tr>\n",
              "    <tr>\n",
              "      <th>39184</th>\n",
              "      <td>31</td>\n",
              "      <td>admin.</td>\n",
              "      <td>married</td>\n",
              "      <td>high.school</td>\n",
              "      <td>no</td>\n",
              "      <td>no</td>\n",
              "      <td>no</td>\n",
              "      <td>cellular</td>\n",
              "      <td>apr</td>\n",
              "      <td>fri</td>\n",
              "      <td>...</td>\n",
              "      <td>2</td>\n",
              "      <td>999</td>\n",
              "      <td>0</td>\n",
              "      <td>nonexistent</td>\n",
              "      <td>-1.8</td>\n",
              "      <td>93.075</td>\n",
              "      <td>-47.1</td>\n",
              "      <td>1.405</td>\n",
              "      <td>5099.1</td>\n",
              "      <td>no</td>\n",
              "    </tr>\n",
              "    <tr>\n",
              "      <th>39185</th>\n",
              "      <td>49</td>\n",
              "      <td>blue-collar</td>\n",
              "      <td>married</td>\n",
              "      <td>basic.4y</td>\n",
              "      <td>NaN</td>\n",
              "      <td>no</td>\n",
              "      <td>no</td>\n",
              "      <td>telephone</td>\n",
              "      <td>jun</td>\n",
              "      <td>fri</td>\n",
              "      <td>...</td>\n",
              "      <td>1</td>\n",
              "      <td>999</td>\n",
              "      <td>0</td>\n",
              "      <td>nonexistent</td>\n",
              "      <td>1.4</td>\n",
              "      <td>94.465</td>\n",
              "      <td>-41.8</td>\n",
              "      <td>4.959</td>\n",
              "      <td>5228.1</td>\n",
              "      <td>yes</td>\n",
              "    </tr>\n",
              "    <tr>\n",
              "      <th>39186</th>\n",
              "      <td>31</td>\n",
              "      <td>admin.</td>\n",
              "      <td>single</td>\n",
              "      <td>university.degree</td>\n",
              "      <td>no</td>\n",
              "      <td>yes</td>\n",
              "      <td>no</td>\n",
              "      <td>telephone</td>\n",
              "      <td>jun</td>\n",
              "      <td>wed</td>\n",
              "      <td>...</td>\n",
              "      <td>1</td>\n",
              "      <td>999</td>\n",
              "      <td>0</td>\n",
              "      <td>nonexistent</td>\n",
              "      <td>1.4</td>\n",
              "      <td>94.465</td>\n",
              "      <td>-41.8</td>\n",
              "      <td>4.959</td>\n",
              "      <td>5228.1</td>\n",
              "      <td>no</td>\n",
              "    </tr>\n",
              "    <tr>\n",
              "      <th>39187</th>\n",
              "      <td>43</td>\n",
              "      <td>blue-collar</td>\n",
              "      <td>married</td>\n",
              "      <td>basic.9y</td>\n",
              "      <td>no</td>\n",
              "      <td>yes</td>\n",
              "      <td>no</td>\n",
              "      <td>telephone</td>\n",
              "      <td>jun</td>\n",
              "      <td>tue</td>\n",
              "      <td>...</td>\n",
              "      <td>1</td>\n",
              "      <td>999</td>\n",
              "      <td>0</td>\n",
              "      <td>nonexistent</td>\n",
              "      <td>1.4</td>\n",
              "      <td>94.465</td>\n",
              "      <td>-41.8</td>\n",
              "      <td>4.961</td>\n",
              "      <td>5228.1</td>\n",
              "      <td>no</td>\n",
              "    </tr>\n",
              "  </tbody>\n",
              "</table>\n",
              "<p>39188 rows × 21 columns</p>\n",
              "</div>\n",
              "      <button class=\"colab-df-convert\" onclick=\"convertToInteractive('df-a818d447-58ef-4035-88d2-1b0a9d4d2990')\"\n",
              "              title=\"Convert this dataframe to an interactive table.\"\n",
              "              style=\"display:none;\">\n",
              "        \n",
              "  <svg xmlns=\"http://www.w3.org/2000/svg\" height=\"24px\"viewBox=\"0 0 24 24\"\n",
              "       width=\"24px\">\n",
              "    <path d=\"M0 0h24v24H0V0z\" fill=\"none\"/>\n",
              "    <path d=\"M18.56 5.44l.94 2.06.94-2.06 2.06-.94-2.06-.94-.94-2.06-.94 2.06-2.06.94zm-11 1L8.5 8.5l.94-2.06 2.06-.94-2.06-.94L8.5 2.5l-.94 2.06-2.06.94zm10 10l.94 2.06.94-2.06 2.06-.94-2.06-.94-.94-2.06-.94 2.06-2.06.94z\"/><path d=\"M17.41 7.96l-1.37-1.37c-.4-.4-.92-.59-1.43-.59-.52 0-1.04.2-1.43.59L10.3 9.45l-7.72 7.72c-.78.78-.78 2.05 0 2.83L4 21.41c.39.39.9.59 1.41.59.51 0 1.02-.2 1.41-.59l7.78-7.78 2.81-2.81c.8-.78.8-2.07 0-2.86zM5.41 20L4 18.59l7.72-7.72 1.47 1.35L5.41 20z\"/>\n",
              "  </svg>\n",
              "      </button>\n",
              "      \n",
              "  <style>\n",
              "    .colab-df-container {\n",
              "      display:flex;\n",
              "      flex-wrap:wrap;\n",
              "      gap: 12px;\n",
              "    }\n",
              "\n",
              "    .colab-df-convert {\n",
              "      background-color: #E8F0FE;\n",
              "      border: none;\n",
              "      border-radius: 50%;\n",
              "      cursor: pointer;\n",
              "      display: none;\n",
              "      fill: #1967D2;\n",
              "      height: 32px;\n",
              "      padding: 0 0 0 0;\n",
              "      width: 32px;\n",
              "    }\n",
              "\n",
              "    .colab-df-convert:hover {\n",
              "      background-color: #E2EBFA;\n",
              "      box-shadow: 0px 1px 2px rgba(60, 64, 67, 0.3), 0px 1px 3px 1px rgba(60, 64, 67, 0.15);\n",
              "      fill: #174EA6;\n",
              "    }\n",
              "\n",
              "    [theme=dark] .colab-df-convert {\n",
              "      background-color: #3B4455;\n",
              "      fill: #D2E3FC;\n",
              "    }\n",
              "\n",
              "    [theme=dark] .colab-df-convert:hover {\n",
              "      background-color: #434B5C;\n",
              "      box-shadow: 0px 1px 3px 1px rgba(0, 0, 0, 0.15);\n",
              "      filter: drop-shadow(0px 1px 2px rgba(0, 0, 0, 0.3));\n",
              "      fill: #FFFFFF;\n",
              "    }\n",
              "  </style>\n",
              "\n",
              "      <script>\n",
              "        const buttonEl =\n",
              "          document.querySelector('#df-a818d447-58ef-4035-88d2-1b0a9d4d2990 button.colab-df-convert');\n",
              "        buttonEl.style.display =\n",
              "          google.colab.kernel.accessAllowed ? 'block' : 'none';\n",
              "\n",
              "        async function convertToInteractive(key) {\n",
              "          const element = document.querySelector('#df-a818d447-58ef-4035-88d2-1b0a9d4d2990');\n",
              "          const dataTable =\n",
              "            await google.colab.kernel.invokeFunction('convertToInteractive',\n",
              "                                                     [key], {});\n",
              "          if (!dataTable) return;\n",
              "\n",
              "          const docLinkHtml = 'Like what you see? Visit the ' +\n",
              "            '<a target=\"_blank\" href=https://colab.research.google.com/notebooks/data_table.ipynb>data table notebook</a>'\n",
              "            + ' to learn more about interactive tables.';\n",
              "          element.innerHTML = '';\n",
              "          dataTable['output_type'] = 'display_data';\n",
              "          await google.colab.output.renderOutput(dataTable, element);\n",
              "          const docLink = document.createElement('div');\n",
              "          docLink.innerHTML = docLinkHtml;\n",
              "          element.appendChild(docLink);\n",
              "        }\n",
              "      </script>\n",
              "    </div>\n",
              "  </div>\n",
              "  "
            ]
          },
          "metadata": {},
          "execution_count": 3
        }
      ]
    },
    {
      "cell_type": "markdown",
      "source": [
        "## preprocessing"
      ],
      "metadata": {
        "id": "K_1mLsLWdNq8"
      },
      "id": "K_1mLsLWdNq8"
    },
    {
      "cell_type": "code",
      "source": [
        "train_data = train_data.dropna(axis=0, how='all', subset=['y'])"
      ],
      "metadata": {
        "id": "_2aO49LteCdh"
      },
      "id": "_2aO49LteCdh",
      "execution_count": 4,
      "outputs": []
    },
    {
      "cell_type": "code",
      "source": [
        "train_data.isnull().sum()"
      ],
      "metadata": {
        "colab": {
          "base_uri": "https://localhost:8080/"
        },
        "id": "v0QkY1LdhcKQ",
        "outputId": "5fe92e79-35cf-448a-880f-6175c477e8f8"
      },
      "id": "v0QkY1LdhcKQ",
      "execution_count": 6,
      "outputs": [
        {
          "output_type": "execute_result",
          "data": {
            "text/plain": [
              "age                  0\n",
              "job                316\n",
              "marital             79\n",
              "education         1653\n",
              "default           8162\n",
              "housing            940\n",
              "loan               940\n",
              "contact              0\n",
              "month                0\n",
              "day_of_week          0\n",
              "duration             0\n",
              "campaign             0\n",
              "pdays                0\n",
              "previous             0\n",
              "poutcome             0\n",
              "emp.var.rate         0\n",
              "cons.price.idx       0\n",
              "cons.conf.idx        0\n",
              "euribor3m            0\n",
              "nr.employed          0\n",
              "y                    0\n",
              "dtype: int64"
            ]
          },
          "metadata": {},
          "execution_count": 6
        }
      ]
    },
    {
      "cell_type": "code",
      "source": [
        "test_data.isnull().sum()"
      ],
      "metadata": {
        "colab": {
          "base_uri": "https://localhost:8080/"
        },
        "id": "3xCjwNjhdP3E",
        "outputId": "b4b16a73-31be-46e2-c657-5a74d2da05dc"
      },
      "id": "3xCjwNjhdP3E",
      "execution_count": 5,
      "outputs": [
        {
          "output_type": "execute_result",
          "data": {
            "text/plain": [
              "age                 0\n",
              "job                14\n",
              "marital             1\n",
              "education          78\n",
              "default           435\n",
              "housing            50\n",
              "loan               50\n",
              "contact             0\n",
              "month               0\n",
              "day_of_week         0\n",
              "duration            0\n",
              "campaign            0\n",
              "pdays               0\n",
              "previous            0\n",
              "poutcome            0\n",
              "emp.var.rate        0\n",
              "cons.price.idx      0\n",
              "cons.conf.idx       0\n",
              "euribor3m           0\n",
              "nr.employed         0\n",
              "dtype: int64"
            ]
          },
          "metadata": {},
          "execution_count": 5
        }
      ]
    },
    {
      "cell_type": "code",
      "source": [
        "train_data.columns"
      ],
      "metadata": {
        "colab": {
          "base_uri": "https://localhost:8080/"
        },
        "id": "Kqt1GoH8fH87",
        "outputId": "c2ef51f3-7247-4dff-dbb7-bc833375b544"
      },
      "id": "Kqt1GoH8fH87",
      "execution_count": 7,
      "outputs": [
        {
          "output_type": "execute_result",
          "data": {
            "text/plain": [
              "Index(['age', 'job', 'marital', 'education', 'default', 'housing', 'loan',\n",
              "       'contact', 'month', 'day_of_week', 'duration', 'campaign', 'pdays',\n",
              "       'previous', 'poutcome', 'emp.var.rate', 'cons.price.idx',\n",
              "       'cons.conf.idx', 'euribor3m', 'nr.employed', 'y'],\n",
              "      dtype='object')"
            ]
          },
          "metadata": {},
          "execution_count": 7
        }
      ]
    },
    {
      "cell_type": "code",
      "source": [
        "for i in ['age', 'duration', 'campaign', 'pdays','previous', 'emp.var.rate',\n",
        "          'cons.price.idx','cons.conf.idx','euribor3m', 'nr.employed'] :\n",
        "  Q1 = train_data[i].quantile(.25)\n",
        "  Q3 = train_data[i].quantile(.75)\n",
        "  IQR = Q3 - Q1\n",
        "  train_data[(train_data[i]> Q1 - (1.5 * IQR)) & (train_data[i]< Q3 + (1.5 * IQR))]"
      ],
      "metadata": {
        "id": "GbrRLHkafFwF"
      },
      "id": "GbrRLHkafFwF",
      "execution_count": 8,
      "outputs": []
    },
    {
      "cell_type": "code",
      "source": [
        "train_job = train_data['job'].mode()[0]\n",
        "test_job = test_data['job'].mode()[0]\n",
        "train_data['job'] = train_data['job'].fillna(train_job)\n",
        "test_data['job'] = test_data['job'].fillna(test_job)"
      ],
      "metadata": {
        "id": "iZKYuz0_qpL8"
      },
      "id": "iZKYuz0_qpL8",
      "execution_count": 9,
      "outputs": []
    },
    {
      "cell_type": "code",
      "source": [
        "train_marital = train_data['marital'].mode()[0]\n",
        "test_marital = test_data['marital'].mode()[0]\n",
        "\n",
        "train_data['marital'] = train_data['marital'].fillna(train_marital)\n",
        "test_data['marital'] = test_data['marital'].fillna(test_marital)"
      ],
      "metadata": {
        "id": "jtAt_86NnJS-"
      },
      "id": "jtAt_86NnJS-",
      "execution_count": 10,
      "outputs": []
    },
    {
      "cell_type": "code",
      "source": [
        "train_education = train_data['education'].mode()[0]\n",
        "test_education = test_data['education'].mode()[0]\n",
        "\n",
        "train_data['education'] = train_data['education'].fillna(train_education)\n",
        "test_data['education'] = test_data['education'].fillna(test_education)"
      ],
      "metadata": {
        "id": "u-Uf-YMErV0u"
      },
      "id": "u-Uf-YMErV0u",
      "execution_count": 11,
      "outputs": []
    },
    {
      "cell_type": "code",
      "source": [
        "train_default = train_data['default'].mode()[0]\n",
        "test_default = test_data['default'].mode()[0]\n",
        "\n",
        "train_data['default'] = train_data['default'].fillna(train_default)\n",
        "test_data['default'] = test_data['default'].fillna(test_default)"
      ],
      "metadata": {
        "id": "rsRGV2_ArlPy"
      },
      "id": "rsRGV2_ArlPy",
      "execution_count": 12,
      "outputs": []
    },
    {
      "cell_type": "code",
      "source": [
        "train_housing = train_data['housing'].mode()[0]\n",
        "test_housing = test_data['housing'].mode()[0]\n",
        "\n",
        "train_data['housing'] = train_data['housing'].fillna(train_housing)\n",
        "test_data['housing'] = test_data['housing'].fillna(test_housing)"
      ],
      "metadata": {
        "id": "Q44dOhuYrtF3"
      },
      "id": "Q44dOhuYrtF3",
      "execution_count": 13,
      "outputs": []
    },
    {
      "cell_type": "code",
      "source": [
        "train_loan = train_data['loan'].mode()[0]\n",
        "test_loan = test_data['loan'].mode()[0]\n",
        "\n",
        "train_data['loan'] = train_data['loan'].fillna(train_loan)\n",
        "test_data['loan'] = test_data['loan'].fillna(test_loan)"
      ],
      "metadata": {
        "id": "dgyWIcthr2Ej"
      },
      "id": "dgyWIcthr2Ej",
      "execution_count": 14,
      "outputs": []
    },
    {
      "cell_type": "code",
      "source": [
        "from sklearn.preprocessing import LabelEncoder\n",
        "\n",
        "label_encoder = LabelEncoder()\n",
        "for i in [ 'job', 'marital', 'education', 'default', 'housing', 'loan',\n",
        "           'contact', 'month', 'day_of_week' ,'poutcome']:\n",
        "           train_data[i] = label_encoder.fit_transform(train_data[i])\n",
        "           test_data[i] = label_encoder.fit_transform(test_data[i])\n"
      ],
      "metadata": {
        "id": "4ggm4dYdtmkD"
      },
      "id": "4ggm4dYdtmkD",
      "execution_count": 15,
      "outputs": []
    },
    {
      "cell_type": "code",
      "source": [
        "from sklearn.preprocessing import StandardScaler\n",
        "\n",
        "scaler = StandardScaler()\n",
        "for i in test_data.columns:\n",
        "  train_data[[i]] = scaler.fit_transform(train_data[[i]])\n",
        "  test_data[[i]] = scaler.fit_transform(test_data[[i]])\n"
      ],
      "metadata": {
        "id": "OeVu0LH-uR-A"
      },
      "id": "OeVu0LH-uR-A",
      "execution_count": 16,
      "outputs": []
    },
    {
      "cell_type": "markdown",
      "source": [
        "## modeling with scikit-learn\n",
        "### AdaBoostClassifier"
      ],
      "metadata": {
        "id": "VNUsMhnzdVME"
      },
      "id": "VNUsMhnzdVME"
    },
    {
      "cell_type": "code",
      "source": [
        "y=  train_data[['y']]\n",
        "x = train_data.copy()\n",
        "x.drop(columns= ['y'], inplace= True)"
      ],
      "metadata": {
        "id": "EBLy25Los-y2"
      },
      "id": "EBLy25Los-y2",
      "execution_count": 17,
      "outputs": []
    },
    {
      "cell_type": "code",
      "source": [
        "from sklearn.model_selection import train_test_split\n",
        "\n",
        "X_train, X_test, y_train, y_test = train_test_split(x, y, test_size=0.2, shuffle=True)\n",
        "X_train, X_val, y_train, y_val = train_test_split(X_train, y_train, test_size=0.25, shuffle=True)"
      ],
      "metadata": {
        "id": "XF3e38fbdegd"
      },
      "id": "XF3e38fbdegd",
      "execution_count": 18,
      "outputs": []
    },
    {
      "cell_type": "code",
      "source": [
        "from sklearn.ensemble import AdaBoostClassifier"
      ],
      "metadata": {
        "id": "VaoL4v65s-4V"
      },
      "id": "VaoL4v65s-4V",
      "execution_count": 19,
      "outputs": []
    },
    {
      "cell_type": "code",
      "execution_count": 20,
      "id": "88bcd5e6",
      "metadata": {
        "colab": {
          "base_uri": "https://localhost:8080/"
        },
        "id": "88bcd5e6",
        "outputId": "3cd05a07-b580-48c9-f22c-a5f580e78987"
      },
      "outputs": [
        {
          "output_type": "stream",
          "name": "stderr",
          "text": [
            "/usr/local/lib/python3.9/dist-packages/sklearn/utils/validation.py:1143: DataConversionWarning: A column-vector y was passed when a 1d array was expected. Please change the shape of y to (n_samples, ), for example using ravel().\n",
            "  y = column_or_1d(y, warn=True)\n"
          ]
        }
      ],
      "source": [
        "# modeling\n",
        "model = AdaBoostClassifier(n_estimators=600, learning_rate=.999,random_state=8) \n",
        "model.fit(X_train,y_train)\n",
        "y_pred = model.predict(X_val)"
      ]
    },
    {
      "cell_type": "code",
      "source": [
        "# evaluate model\n",
        "from sklearn.metrics import f1_score\n",
        "prediction =f1_score(y_val, y_pred, average='weighted')\n",
        "prediction"
      ],
      "metadata": {
        "colab": {
          "base_uri": "https://localhost:8080/"
        },
        "id": "5hV9ez92dx7L",
        "outputId": "3202cf8c-f5bd-45c5-ff72-d0d256c5111a"
      },
      "id": "5hV9ez92dx7L",
      "execution_count": 21,
      "outputs": [
        {
          "output_type": "execute_result",
          "data": {
            "text/plain": [
              "0.9019632489153327"
            ]
          },
          "metadata": {},
          "execution_count": 21
        }
      ]
    },
    {
      "cell_type": "code",
      "execution_count": 22,
      "id": "97df9953",
      "metadata": {
        "scrolled": true,
        "colab": {
          "base_uri": "https://localhost:8080/"
        },
        "id": "97df9953",
        "outputId": "429019fe-fbc7-4ea0-fcb6-39c46ada7a9f"
      },
      "outputs": [
        {
          "output_type": "execute_result",
          "data": {
            "text/plain": [
              "0.9036085277105951"
            ]
          },
          "metadata": {},
          "execution_count": 22
        }
      ],
      "source": [
        "# evaluate model\n",
        "from sklearn.metrics import f1_score\n",
        "y_pred = model.predict(X_test)\n",
        "prediction =f1_score(y_test, y_pred, average='weighted')\n",
        "prediction"
      ]
    }
  ],
  "metadata": {
    "kernelspec": {
      "display_name": "Python 3 (ipykernel)",
      "language": "python",
      "name": "python3"
    },
    "language_info": {
      "codemirror_mode": {
        "name": "ipython",
        "version": 3
      },
      "file_extension": ".py",
      "mimetype": "text/x-python",
      "name": "python",
      "nbconvert_exporter": "python",
      "pygments_lexer": "ipython3",
      "version": "3.8.6"
    },
    "colab": {
      "provenance": []
    }
  },
  "nbformat": 4,
  "nbformat_minor": 5
}